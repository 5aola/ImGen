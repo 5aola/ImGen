{
 "cells": [
  {
   "cell_type": "code",
   "execution_count": 1,
   "id": "a12cfaf2",
   "metadata": {},
   "outputs": [],
   "source": [
    "\"\"\"\n",
    "Not working yet.\n",
    "\"\"\"\n",
    "import json"
   ]
  },
  {
   "cell_type": "code",
   "execution_count": 2,
   "id": "0a1d984a",
   "metadata": {},
   "outputs": [
    {
     "ename": "NameError",
     "evalue": "name 'train_dset' is not defined",
     "output_type": "error",
     "traceback": [
      "\u001b[1;31m---------------------------------------------------------------------------\u001b[0m",
      "\u001b[1;31mNameError\u001b[0m                                 Traceback (most recent call last)",
      "\u001b[1;32m~\\AppData\\Local\\Temp/ipykernel_3756/1689701109.py\u001b[0m in \u001b[0;36m<module>\u001b[1;34m\u001b[0m\n\u001b[0;32m      2\u001b[0m     \u001b[0mdata\u001b[0m \u001b[1;33m=\u001b[0m \u001b[0mjson\u001b[0m\u001b[1;33m.\u001b[0m\u001b[0mload\u001b[0m\u001b[1;33m(\u001b[0m\u001b[0mf\u001b[0m\u001b[1;33m)\u001b[0m\u001b[1;33m\u001b[0m\u001b[1;33m\u001b[0m\u001b[0m\n\u001b[0;32m      3\u001b[0m \u001b[1;33m\u001b[0m\u001b[0m\n\u001b[1;32m----> 4\u001b[1;33m imageJson = { \"ID\" : train_dset.getimageID(n),\n\u001b[0m\u001b[0;32m      5\u001b[0m     \"image\": image.tolist()}\n\u001b[0;32m      6\u001b[0m \u001b[1;33m\u001b[0m\u001b[0m\n",
      "\u001b[1;31mNameError\u001b[0m: name 'train_dset' is not defined"
     ]
    }
   ],
   "source": [
    "with open('schene.json') as f:\n",
    "    data = json.load(f)\n",
    "            \n",
    "imageJson = { \"ID\" : train_dset.getimageID(n),\n",
    "    \"image\": image.tolist()}\n",
    "\n",
    "with open('images.json') as f:\n",
    "    data = json.load(f)\n",
    "    \n",
    "maskJson = { \"ID\" : train_dset.getimageID(n),\n",
    "    \"maskcords\": maskCoords.tolist(),\n",
    "    \"masks\" :  masks.tolist()}\n",
    "\n",
    "with open('masks.json') as f:\n",
    "    data = json.load(f)\n",
    "    \n",
    "with open('imagelist.json', 'a') as f:\n",
    "    json.dump({\"ID\" : train_dset.getimageID(n)}, f)"
   ]
  },
  {
   "cell_type": "code",
   "execution_count": 3,
   "id": "af727e39",
   "metadata": {},
   "outputs": [
    {
     "ename": "NameError",
     "evalue": "name 'orig_groups' is not defined",
     "output_type": "error",
     "traceback": [
      "\u001b[1;31m---------------------------------------------------------------------------\u001b[0m",
      "\u001b[1;31mNameError\u001b[0m                                 Traceback (most recent call last)",
      "\u001b[1;32m~\\AppData\\Local\\Temp/ipykernel_3756/17286552.py\u001b[0m in \u001b[0;36m<module>\u001b[1;34m\u001b[0m\n\u001b[0;32m      1\u001b[0m \u001b[1;31m#y-nok pozicioja?\u001b[0m\u001b[1;33m\u001b[0m\u001b[1;33m\u001b[0m\u001b[1;33m\u001b[0m\u001b[0m\n\u001b[0;32m      2\u001b[0m \u001b[1;33m\u001b[0m\u001b[0m\n\u001b[1;32m----> 3\u001b[1;33m \u001b[0morig_train\u001b[0m\u001b[1;33m,\u001b[0m \u001b[0morig_val\u001b[0m\u001b[1;33m,\u001b[0m \u001b[0morig_test\u001b[0m \u001b[1;33m=\u001b[0m \u001b[0morig_groups\u001b[0m\u001b[1;33m[\u001b[0m\u001b[1;33m:\u001b[0m\u001b[1;36m120\u001b[0m\u001b[1;33m]\u001b[0m\u001b[1;33m,\u001b[0m \u001b[0morig_groups\u001b[0m\u001b[1;33m[\u001b[0m\u001b[1;36m120\u001b[0m\u001b[1;33m:\u001b[0m\u001b[1;36m140\u001b[0m\u001b[1;33m]\u001b[0m\u001b[1;33m,\u001b[0m \u001b[0morig_groups\u001b[0m\u001b[1;33m[\u001b[0m\u001b[1;36m140\u001b[0m\u001b[1;33m:\u001b[0m\u001b[1;33m]\u001b[0m\u001b[1;33m\u001b[0m\u001b[1;33m\u001b[0m\u001b[0m\n\u001b[0m",
      "\u001b[1;31mNameError\u001b[0m: name 'orig_groups' is not defined"
     ]
    }
   ],
   "source": [
    "#y-nok pozicioja?\n",
    "\n",
    "orig_train, orig_val, orig_test = orig_groups[:120], orig_groups[120:140], orig_groups[140:]"
   ]
  },
  {
   "cell_type": "code",
   "execution_count": null,
   "id": "e544ecec",
   "metadata": {},
   "outputs": [],
   "source": []
  }
 ],
 "metadata": {
  "kernelspec": {
   "display_name": "Python 3 (ipykernel)",
   "language": "python",
   "name": "python3"
  },
  "language_info": {
   "codemirror_mode": {
    "name": "ipython",
    "version": 3
   },
   "file_extension": ".py",
   "mimetype": "text/x-python",
   "name": "python",
   "nbconvert_exporter": "python",
   "pygments_lexer": "ipython3",
   "version": "3.7.11"
  }
 },
 "nbformat": 4,
 "nbformat_minor": 5
}
